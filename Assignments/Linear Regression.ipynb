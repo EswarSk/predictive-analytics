{
 "cells": [
  {
   "cell_type": "markdown",
   "id": "db55f761",
   "metadata": {},
   "source": [
    "## Part 1: Exploratory Analysis and Visualization"
   ]
  },
  {
   "cell_type": "code",
   "execution_count": 169,
   "id": "f834b497",
   "metadata": {},
   "outputs": [],
   "source": [
    "import numpy as np\n",
    "import pandas as pd"
   ]
  },
  {
   "cell_type": "code",
   "execution_count": 170,
   "id": "062f59ba",
   "metadata": {},
   "outputs": [],
   "source": [
    "# read in data file\n",
    "\n",
    "homes_df = pd.read_csv('WestRoxbury_unprocessed.csv')"
   ]
  },
  {
   "cell_type": "markdown",
   "id": "fee0b0b2",
   "metadata": {},
   "source": [
    "### Basic Exploratory Analysis"
   ]
  },
  {
   "cell_type": "code",
   "execution_count": 171,
   "id": "f2687311",
   "metadata": {},
   "outputs": [
    {
     "data": {
      "text/plain": [
       "TOTAL_VALUE    float64\n",
       "LOT_SQFT       float64\n",
       "YR_BUILT         int64\n",
       "LIVING_AREA    float64\n",
       "FLOORS         float64\n",
       "ROOMS            int64\n",
       "BEDROOMS         int64\n",
       "FULL_BATH        int64\n",
       "HALF_BATH        int64\n",
       "KITCHEN          int64\n",
       "FIREPLACE        int64\n",
       "REMODEL         object\n",
       "dtype: object"
      ]
     },
     "execution_count": 171,
     "metadata": {},
     "output_type": "execute_result"
    }
   ],
   "source": [
    "# print the data types of each column\n",
    "homes_df.dtypes"
   ]
  },
  {
   "cell_type": "code",
   "execution_count": 172,
   "id": "2652e5e4",
   "metadata": {},
   "outputs": [
    {
     "data": {
      "text/plain": [
       "(5802, 12)"
      ]
     },
     "execution_count": 172,
     "metadata": {},
     "output_type": "execute_result"
    }
   ],
   "source": [
    "# print the shape of the dataframe\n",
    "homes_df.shape"
   ]
  },
  {
   "cell_type": "code",
   "execution_count": 173,
   "id": "ac9f19d7",
   "metadata": {},
   "outputs": [
    {
     "data": {
      "text/plain": [
       "TOTAL_VALUE    0\n",
       "LOT_SQFT       1\n",
       "YR_BUILT       0\n",
       "LIVING_AREA    2\n",
       "FLOORS         0\n",
       "ROOMS          0\n",
       "BEDROOMS       0\n",
       "FULL_BATH      0\n",
       "HALF_BATH      0\n",
       "KITCHEN        0\n",
       "FIREPLACE      0\n",
       "REMODEL        0\n",
       "dtype: int64"
      ]
     },
     "execution_count": 173,
     "metadata": {},
     "output_type": "execute_result"
    }
   ],
   "source": [
    "# check for null values\n",
    "homes_df.isnull().sum()"
   ]
  },
  {
   "cell_type": "code",
   "execution_count": 174,
   "id": "4b07dacf",
   "metadata": {},
   "outputs": [
    {
     "data": {
      "text/plain": [
       "None      4346\n",
       "Recent     875\n",
       "Old        581\n",
       "Name: REMODEL, dtype: int64"
      ]
     },
     "execution_count": 174,
     "metadata": {},
     "output_type": "execute_result"
    }
   ],
   "source": [
    "# look at each category in \"REMODEL\"\n",
    "homes_df['REMODEL'].value_counts()"
   ]
  },
  {
   "cell_type": "code",
   "execution_count": 175,
   "id": "90098d96",
   "metadata": {},
   "outputs": [
    {
     "data": {
      "text/plain": [
       "7     1769\n",
       "6     1669\n",
       "8      936\n",
       "5      578\n",
       "9      450\n",
       "10     200\n",
       "4       71\n",
       "11      66\n",
       "12      45\n",
       "13      10\n",
       "14       5\n",
       "3        3\n",
       "Name: ROOMS, dtype: int64"
      ]
     },
     "execution_count": 175,
     "metadata": {},
     "output_type": "execute_result"
    }
   ],
   "source": [
    "# look at the frequency of occurence in the \"ROOMS\" column\n",
    "homes_df['ROOMS'].value_counts()"
   ]
  },
  {
   "cell_type": "code",
   "execution_count": 176,
   "id": "7980178d",
   "metadata": {},
   "outputs": [
    {
     "name": "stderr",
     "output_type": "stream",
     "text": [
      "/var/folders/xf/b36657vn64qgg5jl38wv7s1m0000gn/T/ipykernel_50599/494318597.py:5: FutureWarning: The default value of numeric_only in DataFrame.corr is deprecated. In a future version, it will default to False. Select only valid columns or specify the value of numeric_only to silence this warning.\n",
      "  predictor_df.corr()\n"
     ]
    },
    {
     "data": {
      "text/html": [
       "<div>\n",
       "<style scoped>\n",
       "    .dataframe tbody tr th:only-of-type {\n",
       "        vertical-align: middle;\n",
       "    }\n",
       "\n",
       "    .dataframe tbody tr th {\n",
       "        vertical-align: top;\n",
       "    }\n",
       "\n",
       "    .dataframe thead th {\n",
       "        text-align: right;\n",
       "    }\n",
       "</style>\n",
       "<table border=\"1\" class=\"dataframe\">\n",
       "  <thead>\n",
       "    <tr style=\"text-align: right;\">\n",
       "      <th></th>\n",
       "      <th>LOT_SQFT</th>\n",
       "      <th>YR_BUILT</th>\n",
       "      <th>LIVING_AREA</th>\n",
       "      <th>FLOORS</th>\n",
       "      <th>ROOMS</th>\n",
       "      <th>BEDROOMS</th>\n",
       "      <th>FULL_BATH</th>\n",
       "      <th>HALF_BATH</th>\n",
       "      <th>KITCHEN</th>\n",
       "      <th>FIREPLACE</th>\n",
       "    </tr>\n",
       "  </thead>\n",
       "  <tbody>\n",
       "    <tr>\n",
       "      <th>LOT_SQFT</th>\n",
       "      <td>1.000000</td>\n",
       "      <td>-0.068903</td>\n",
       "      <td>0.426145</td>\n",
       "      <td>0.073640</td>\n",
       "      <td>0.308398</td>\n",
       "      <td>0.254094</td>\n",
       "      <td>0.201427</td>\n",
       "      <td>0.134947</td>\n",
       "      <td>0.044518</td>\n",
       "      <td>0.181910</td>\n",
       "    </tr>\n",
       "    <tr>\n",
       "      <th>YR_BUILT</th>\n",
       "      <td>-0.068903</td>\n",
       "      <td>1.000000</td>\n",
       "      <td>-0.131162</td>\n",
       "      <td>-0.190453</td>\n",
       "      <td>-0.144686</td>\n",
       "      <td>-0.130411</td>\n",
       "      <td>0.073706</td>\n",
       "      <td>0.060685</td>\n",
       "      <td>0.052091</td>\n",
       "      <td>0.087234</td>\n",
       "    </tr>\n",
       "    <tr>\n",
       "      <th>LIVING_AREA</th>\n",
       "      <td>0.426145</td>\n",
       "      <td>-0.131162</td>\n",
       "      <td>1.000000</td>\n",
       "      <td>0.475604</td>\n",
       "      <td>0.720688</td>\n",
       "      <td>0.641065</td>\n",
       "      <td>0.438143</td>\n",
       "      <td>0.300847</td>\n",
       "      <td>0.082799</td>\n",
       "      <td>0.261992</td>\n",
       "    </tr>\n",
       "    <tr>\n",
       "      <th>FLOORS</th>\n",
       "      <td>0.073640</td>\n",
       "      <td>-0.190453</td>\n",
       "      <td>0.475604</td>\n",
       "      <td>1.000000</td>\n",
       "      <td>0.432856</td>\n",
       "      <td>0.431242</td>\n",
       "      <td>0.112166</td>\n",
       "      <td>0.316142</td>\n",
       "      <td>-0.114602</td>\n",
       "      <td>0.120506</td>\n",
       "    </tr>\n",
       "    <tr>\n",
       "      <th>ROOMS</th>\n",
       "      <td>0.308398</td>\n",
       "      <td>-0.144686</td>\n",
       "      <td>0.720688</td>\n",
       "      <td>0.432856</td>\n",
       "      <td>1.000000</td>\n",
       "      <td>0.710693</td>\n",
       "      <td>0.378274</td>\n",
       "      <td>0.282655</td>\n",
       "      <td>0.129223</td>\n",
       "      <td>0.205223</td>\n",
       "    </tr>\n",
       "    <tr>\n",
       "      <th>BEDROOMS</th>\n",
       "      <td>0.254094</td>\n",
       "      <td>-0.130411</td>\n",
       "      <td>0.641065</td>\n",
       "      <td>0.431242</td>\n",
       "      <td>0.710693</td>\n",
       "      <td>1.000000</td>\n",
       "      <td>0.332620</td>\n",
       "      <td>0.256852</td>\n",
       "      <td>0.085353</td>\n",
       "      <td>0.164380</td>\n",
       "    </tr>\n",
       "    <tr>\n",
       "      <th>FULL_BATH</th>\n",
       "      <td>0.201427</td>\n",
       "      <td>0.073706</td>\n",
       "      <td>0.438143</td>\n",
       "      <td>0.112166</td>\n",
       "      <td>0.378274</td>\n",
       "      <td>0.332620</td>\n",
       "      <td>1.000000</td>\n",
       "      <td>-0.130628</td>\n",
       "      <td>0.146650</td>\n",
       "      <td>0.140160</td>\n",
       "    </tr>\n",
       "    <tr>\n",
       "      <th>HALF_BATH</th>\n",
       "      <td>0.134947</td>\n",
       "      <td>0.060685</td>\n",
       "      <td>0.300847</td>\n",
       "      <td>0.316142</td>\n",
       "      <td>0.282655</td>\n",
       "      <td>0.256852</td>\n",
       "      <td>-0.130628</td>\n",
       "      <td>1.000000</td>\n",
       "      <td>-0.020071</td>\n",
       "      <td>0.176234</td>\n",
       "    </tr>\n",
       "    <tr>\n",
       "      <th>KITCHEN</th>\n",
       "      <td>0.044518</td>\n",
       "      <td>0.052091</td>\n",
       "      <td>0.082799</td>\n",
       "      <td>-0.114602</td>\n",
       "      <td>0.129223</td>\n",
       "      <td>0.085353</td>\n",
       "      <td>0.146650</td>\n",
       "      <td>-0.020071</td>\n",
       "      <td>1.000000</td>\n",
       "      <td>-0.009562</td>\n",
       "    </tr>\n",
       "    <tr>\n",
       "      <th>FIREPLACE</th>\n",
       "      <td>0.181910</td>\n",
       "      <td>0.087234</td>\n",
       "      <td>0.261992</td>\n",
       "      <td>0.120506</td>\n",
       "      <td>0.205223</td>\n",
       "      <td>0.164380</td>\n",
       "      <td>0.140160</td>\n",
       "      <td>0.176234</td>\n",
       "      <td>-0.009562</td>\n",
       "      <td>1.000000</td>\n",
       "    </tr>\n",
       "  </tbody>\n",
       "</table>\n",
       "</div>"
      ],
      "text/plain": [
       "             LOT_SQFT  YR_BUILT  LIVING_AREA    FLOORS     ROOMS  BEDROOMS  \\\n",
       "LOT_SQFT     1.000000 -0.068903     0.426145  0.073640  0.308398  0.254094   \n",
       "YR_BUILT    -0.068903  1.000000    -0.131162 -0.190453 -0.144686 -0.130411   \n",
       "LIVING_AREA  0.426145 -0.131162     1.000000  0.475604  0.720688  0.641065   \n",
       "FLOORS       0.073640 -0.190453     0.475604  1.000000  0.432856  0.431242   \n",
       "ROOMS        0.308398 -0.144686     0.720688  0.432856  1.000000  0.710693   \n",
       "BEDROOMS     0.254094 -0.130411     0.641065  0.431242  0.710693  1.000000   \n",
       "FULL_BATH    0.201427  0.073706     0.438143  0.112166  0.378274  0.332620   \n",
       "HALF_BATH    0.134947  0.060685     0.300847  0.316142  0.282655  0.256852   \n",
       "KITCHEN      0.044518  0.052091     0.082799 -0.114602  0.129223  0.085353   \n",
       "FIREPLACE    0.181910  0.087234     0.261992  0.120506  0.205223  0.164380   \n",
       "\n",
       "             FULL_BATH  HALF_BATH   KITCHEN  FIREPLACE  \n",
       "LOT_SQFT      0.201427   0.134947  0.044518   0.181910  \n",
       "YR_BUILT      0.073706   0.060685  0.052091   0.087234  \n",
       "LIVING_AREA   0.438143   0.300847  0.082799   0.261992  \n",
       "FLOORS        0.112166   0.316142 -0.114602   0.120506  \n",
       "ROOMS         0.378274   0.282655  0.129223   0.205223  \n",
       "BEDROOMS      0.332620   0.256852  0.085353   0.164380  \n",
       "FULL_BATH     1.000000  -0.130628  0.146650   0.140160  \n",
       "HALF_BATH    -0.130628   1.000000 -0.020071   0.176234  \n",
       "KITCHEN       0.146650  -0.020071  1.000000  -0.009562  \n",
       "FIREPLACE     0.140160   0.176234 -0.009562   1.000000  "
      ]
     },
     "execution_count": 176,
     "metadata": {},
     "output_type": "execute_result"
    }
   ],
   "source": [
    "# look at the correlation between all of the predictors (be sure to only focus on the predictors, and not the target variable)\n",
    "predictor_df = homes_df[['LOT_SQFT', 'YR_BUILT', 'LIVING_AREA', 'FLOORS', 'ROOMS', 'BEDROOMS', 'FULL_BATH',\n",
    "                        'HALF_BATH', 'KITCHEN', 'FIREPLACE', 'REMODEL']]\n",
    "response_df = homes_df['TOTAL_VALUE']\n",
    "predictor_df.corr()"
   ]
  },
  {
   "cell_type": "markdown",
   "id": "b04be3a6",
   "metadata": {},
   "source": [
    "### Data visualization"
   ]
  },
  {
   "cell_type": "code",
   "execution_count": 177,
   "id": "cccfbd21",
   "metadata": {},
   "outputs": [],
   "source": [
    "import matplotlib.pyplot as plt"
   ]
  },
  {
   "cell_type": "code",
   "execution_count": 178,
   "id": "48da0936",
   "metadata": {},
   "outputs": [],
   "source": [
    "%matplotlib inline"
   ]
  },
  {
   "cell_type": "code",
   "execution_count": 179,
   "id": "d2987396",
   "metadata": {},
   "outputs": [
    {
     "data": {
      "image/png": "[encoded data removed]",
      "text/plain": [
       "<Figure size 640x480 with 1 Axes>"
      ]
     },
     "metadata": {},
     "output_type": "display_data"
    }
   ],
   "source": [
    "# plot LIVING_AREA vs. TOTAL_VALUE\n",
    "plt.scatter(homes_df['LIVING_AREA'],homes_df['TOTAL_VALUE'])\n",
    "plt.xlabel(\"Living Area\")                                    # create a label for the x axis\n",
    "plt.ylabel(\"Total Value\")              # create a label for the y axis\n",
    "plt.title(\"Value by Area plot\")\n",
    "plt.savefig(\"scatt.jpg\")"
   ]
  },
  {
   "cell_type": "markdown",
   "id": "50fc3a6c",
   "metadata": {},
   "source": [
    "## Part 2: Data preprocessing"
   ]
  },
  {
   "cell_type": "markdown",
   "id": "81e54a88",
   "metadata": {},
   "source": [
    "#### Drop predictors (if you feel it's necessary)"
   ]
  },
  {
   "cell_type": "code",
   "execution_count": 180,
   "id": "2422d98b",
   "metadata": {},
   "outputs": [],
   "source": [
    "# not necessary to drop any columns"
   ]
  },
  {
   "cell_type": "markdown",
   "id": "1ad707e7",
   "metadata": {},
   "source": [
    "#### Deal with NA values"
   ]
  },
  {
   "cell_type": "code",
   "execution_count": 181,
   "id": "a119b24e",
   "metadata": {},
   "outputs": [],
   "source": [
    "homes_df1=homes_df.dropna().reset_index(drop=True)"
   ]
  },
  {
   "cell_type": "markdown",
   "id": "74c434da",
   "metadata": {},
   "source": [
    "#### Deal with categorical variables"
   ]
  },
  {
   "cell_type": "code",
   "execution_count": 182,
   "id": "af488565",
   "metadata": {},
   "outputs": [
    {
     "data": {
      "text/html": [
       "<div>\n",
       "<style scoped>\n",
       "    .dataframe tbody tr th:only-of-type {\n",
       "        vertical-align: middle;\n",
       "    }\n",
       "\n",
       "    .dataframe tbody tr th {\n",
       "        vertical-align: top;\n",
       "    }\n",
       "\n",
       "    .dataframe thead th {\n",
       "        text-align: right;\n",
       "    }\n",
       "</style>\n",
       "<table border=\"1\" class=\"dataframe\">\n",
       "  <thead>\n",
       "    <tr style=\"text-align: right;\">\n",
       "      <th></th>\n",
       "      <th>TOTAL_VALUE</th>\n",
       "      <th>LOT_SQFT</th>\n",
       "      <th>YR_BUILT</th>\n",
       "      <th>LIVING_AREA</th>\n",
       "      <th>FLOORS</th>\n",
       "      <th>ROOMS</th>\n",
       "      <th>BEDROOMS</th>\n",
       "      <th>FULL_BATH</th>\n",
       "      <th>HALF_BATH</th>\n",
       "      <th>KITCHEN</th>\n",
       "      <th>FIREPLACE</th>\n",
       "      <th>REMODEL_Old</th>\n",
       "      <th>REMODEL_Recent</th>\n",
       "    </tr>\n",
       "  </thead>\n",
       "  <tbody>\n",
       "    <tr>\n",
       "      <th>0</th>\n",
       "      <td>344.2</td>\n",
       "      <td>9965.0</td>\n",
       "      <td>1880</td>\n",
       "      <td>1352.0</td>\n",
       "      <td>2.0</td>\n",
       "      <td>6</td>\n",
       "      <td>3</td>\n",
       "      <td>1</td>\n",
       "      <td>1</td>\n",
       "      <td>1</td>\n",
       "      <td>0</td>\n",
       "      <td>0</td>\n",
       "      <td>0</td>\n",
       "    </tr>\n",
       "    <tr>\n",
       "      <th>1</th>\n",
       "      <td>412.6</td>\n",
       "      <td>6590.0</td>\n",
       "      <td>1945</td>\n",
       "      <td>1976.0</td>\n",
       "      <td>2.0</td>\n",
       "      <td>10</td>\n",
       "      <td>4</td>\n",
       "      <td>2</td>\n",
       "      <td>1</td>\n",
       "      <td>1</td>\n",
       "      <td>0</td>\n",
       "      <td>0</td>\n",
       "      <td>1</td>\n",
       "    </tr>\n",
       "    <tr>\n",
       "      <th>2</th>\n",
       "      <td>330.1</td>\n",
       "      <td>7500.0</td>\n",
       "      <td>1890</td>\n",
       "      <td>1371.0</td>\n",
       "      <td>2.0</td>\n",
       "      <td>8</td>\n",
       "      <td>4</td>\n",
       "      <td>1</td>\n",
       "      <td>1</td>\n",
       "      <td>1</td>\n",
       "      <td>0</td>\n",
       "      <td>0</td>\n",
       "      <td>0</td>\n",
       "    </tr>\n",
       "    <tr>\n",
       "      <th>3</th>\n",
       "      <td>498.6</td>\n",
       "      <td>13773.0</td>\n",
       "      <td>1957</td>\n",
       "      <td>2608.0</td>\n",
       "      <td>1.0</td>\n",
       "      <td>9</td>\n",
       "      <td>5</td>\n",
       "      <td>1</td>\n",
       "      <td>1</td>\n",
       "      <td>1</td>\n",
       "      <td>1</td>\n",
       "      <td>0</td>\n",
       "      <td>0</td>\n",
       "    </tr>\n",
       "    <tr>\n",
       "      <th>4</th>\n",
       "      <td>331.5</td>\n",
       "      <td>5000.0</td>\n",
       "      <td>1910</td>\n",
       "      <td>1438.0</td>\n",
       "      <td>2.0</td>\n",
       "      <td>7</td>\n",
       "      <td>3</td>\n",
       "      <td>2</td>\n",
       "      <td>0</td>\n",
       "      <td>1</td>\n",
       "      <td>0</td>\n",
       "      <td>0</td>\n",
       "      <td>0</td>\n",
       "    </tr>\n",
       "  </tbody>\n",
       "</table>\n",
       "</div>"
      ],
      "text/plain": [
       "   TOTAL_VALUE  LOT_SQFT  YR_BUILT  LIVING_AREA  FLOORS  ROOMS  BEDROOMS  \\\n",
       "0        344.2    9965.0      1880       1352.0     2.0      6         3   \n",
       "1        412.6    6590.0      1945       1976.0     2.0     10         4   \n",
       "2        330.1    7500.0      1890       1371.0     2.0      8         4   \n",
       "3        498.6   13773.0      1957       2608.0     1.0      9         5   \n",
       "4        331.5    5000.0      1910       1438.0     2.0      7         3   \n",
       "\n",
       "   FULL_BATH  HALF_BATH  KITCHEN  FIREPLACE  REMODEL_Old  REMODEL_Recent  \n",
       "0          1          1        1          0            0               0  \n",
       "1          2          1        1          0            0               1  \n",
       "2          1          1        1          0            0               0  \n",
       "3          1          1        1          1            0               0  \n",
       "4          2          0        1          0            0               0  "
      ]
     },
     "execution_count": 182,
     "metadata": {},
     "output_type": "execute_result"
    }
   ],
   "source": [
    "# flag categorical varibales\n",
    "homes_df1 = pd.get_dummies(homes_df1, drop_first = True)\n",
    "homes_df1.head()"
   ]
  },
  {
   "cell_type": "markdown",
   "id": "448a0a07",
   "metadata": {},
   "source": [
    "#### Normalize data"
   ]
  },
  {
   "cell_type": "code",
   "execution_count": 183,
   "id": "56f70a86",
   "metadata": {},
   "outputs": [],
   "source": [
    "from sklearn import preprocessing"
   ]
  },
  {
   "cell_type": "code",
   "execution_count": 184,
   "id": "8ade6fcd",
   "metadata": {},
   "outputs": [],
   "source": [
    "# create a dataframe with just the predictors, and another with just the values for the response variable\n",
    "# predictor_df should be helpful when you normalize the predictors below, and response_df should be helpful when you partition\n",
    "# your data into train and test sets (hint: you can use \"y = response_df\" when you partition)\n",
    "\n",
    "predictors_df2 = homes_df1[['LOT_SQFT', 'YR_BUILT', 'LIVING_AREA', 'FLOORS', 'ROOMS','BEDROOMS', 'FULL_BATH', 'HALF_BATH', \n",
    "              'KITCHEN', 'FIREPLACE','REMODEL_Old', 'REMODEL_Recent']]\n",
    "response_df2 = homes_df1['TOTAL_VALUE']"
   ]
  },
  {
   "cell_type": "code",
   "execution_count": 185,
   "id": "1df45779",
   "metadata": {},
   "outputs": [
    {
     "data": {
      "text/html": [
       "<div>\n",
       "<style scoped>\n",
       "    .dataframe tbody tr th:only-of-type {\n",
       "        vertical-align: middle;\n",
       "    }\n",
       "\n",
       "    .dataframe tbody tr th {\n",
       "        vertical-align: top;\n",
       "    }\n",
       "\n",
       "    .dataframe thead th {\n",
       "        text-align: right;\n",
       "    }\n",
       "</style>\n",
       "<table border=\"1\" class=\"dataframe\">\n",
       "  <thead>\n",
       "    <tr style=\"text-align: right;\">\n",
       "      <th></th>\n",
       "      <th>LOT_SQFT</th>\n",
       "      <th>YR_BUILT</th>\n",
       "      <th>LIVING_AREA</th>\n",
       "      <th>FLOORS</th>\n",
       "      <th>ROOMS</th>\n",
       "      <th>BEDROOMS</th>\n",
       "      <th>FULL_BATH</th>\n",
       "      <th>HALF_BATH</th>\n",
       "      <th>KITCHEN</th>\n",
       "      <th>FIREPLACE</th>\n",
       "      <th>REMODEL_Old</th>\n",
       "      <th>REMODEL_Recent</th>\n",
       "    </tr>\n",
       "  </thead>\n",
       "  <tbody>\n",
       "    <tr>\n",
       "      <th>0</th>\n",
       "      <td>1.380770</td>\n",
       "      <td>-1.576306</td>\n",
       "      <td>-0.564957</td>\n",
       "      <td>0.710481</td>\n",
       "      <td>-0.692386</td>\n",
       "      <td>-0.272264</td>\n",
       "      <td>-0.568257</td>\n",
       "      <td>0.722730</td>\n",
       "      <td>-0.124847</td>\n",
       "      <td>-1.309419</td>\n",
       "      <td>-0.333684</td>\n",
       "      <td>-0.421262</td>\n",
       "    </tr>\n",
       "    <tr>\n",
       "      <th>1</th>\n",
       "      <td>0.116790</td>\n",
       "      <td>0.229535</td>\n",
       "      <td>0.589695</td>\n",
       "      <td>0.710481</td>\n",
       "      <td>2.090597</td>\n",
       "      <td>0.909517</td>\n",
       "      <td>1.347628</td>\n",
       "      <td>0.722730</td>\n",
       "      <td>-0.124847</td>\n",
       "      <td>-1.309419</td>\n",
       "      <td>-0.333684</td>\n",
       "      <td>2.373818</td>\n",
       "    </tr>\n",
       "    <tr>\n",
       "      <th>2</th>\n",
       "      <td>0.457596</td>\n",
       "      <td>-1.298484</td>\n",
       "      <td>-0.529799</td>\n",
       "      <td>0.710481</td>\n",
       "      <td>0.699105</td>\n",
       "      <td>0.909517</td>\n",
       "      <td>-0.568257</td>\n",
       "      <td>0.722730</td>\n",
       "      <td>-0.124847</td>\n",
       "      <td>-1.309419</td>\n",
       "      <td>-0.333684</td>\n",
       "      <td>-0.421262</td>\n",
       "    </tr>\n",
       "    <tr>\n",
       "      <th>3</th>\n",
       "      <td>2.806915</td>\n",
       "      <td>0.562921</td>\n",
       "      <td>1.759149</td>\n",
       "      <td>-1.537857</td>\n",
       "      <td>1.394851</td>\n",
       "      <td>2.091298</td>\n",
       "      <td>-0.568257</td>\n",
       "      <td>0.722730</td>\n",
       "      <td>-0.124847</td>\n",
       "      <td>0.460173</td>\n",
       "      <td>-0.333684</td>\n",
       "      <td>-0.421262</td>\n",
       "    </tr>\n",
       "    <tr>\n",
       "      <th>4</th>\n",
       "      <td>-0.478685</td>\n",
       "      <td>-0.742841</td>\n",
       "      <td>-0.405822</td>\n",
       "      <td>0.710481</td>\n",
       "      <td>0.003359</td>\n",
       "      <td>-0.272264</td>\n",
       "      <td>1.347628</td>\n",
       "      <td>-1.150811</td>\n",
       "      <td>-0.124847</td>\n",
       "      <td>-1.309419</td>\n",
       "      <td>-0.333684</td>\n",
       "      <td>-0.421262</td>\n",
       "    </tr>\n",
       "    <tr>\n",
       "      <th>5</th>\n",
       "      <td>-0.425505</td>\n",
       "      <td>0.368445</td>\n",
       "      <td>-1.105274</td>\n",
       "      <td>-1.537857</td>\n",
       "      <td>-0.692386</td>\n",
       "      <td>-0.272264</td>\n",
       "      <td>-0.568257</td>\n",
       "      <td>-1.150811</td>\n",
       "      <td>-0.124847</td>\n",
       "      <td>0.460173</td>\n",
       "      <td>2.996843</td>\n",
       "      <td>-0.421262</td>\n",
       "    </tr>\n",
       "    <tr>\n",
       "      <th>6</th>\n",
       "      <td>-0.478685</td>\n",
       "      <td>0.479574</td>\n",
       "      <td>0.478670</td>\n",
       "      <td>0.710481</td>\n",
       "      <td>0.003359</td>\n",
       "      <td>-0.272264</td>\n",
       "      <td>-0.568257</td>\n",
       "      <td>0.722730</td>\n",
       "      <td>-0.124847</td>\n",
       "      <td>-1.309419</td>\n",
       "      <td>-0.333684</td>\n",
       "      <td>-0.421262</td>\n",
       "    </tr>\n",
       "    <tr>\n",
       "      <th>7</th>\n",
       "      <td>1.393878</td>\n",
       "      <td>0.368445</td>\n",
       "      <td>-0.846218</td>\n",
       "      <td>-1.537857</td>\n",
       "      <td>-0.692386</td>\n",
       "      <td>-0.272264</td>\n",
       "      <td>-0.568257</td>\n",
       "      <td>-1.150811</td>\n",
       "      <td>-0.124847</td>\n",
       "      <td>-1.309419</td>\n",
       "      <td>-0.333684</td>\n",
       "      <td>-0.421262</td>\n",
       "    </tr>\n",
       "    <tr>\n",
       "      <th>8</th>\n",
       "      <td>0.208546</td>\n",
       "      <td>0.590703</td>\n",
       "      <td>-1.046061</td>\n",
       "      <td>-1.537857</td>\n",
       "      <td>-1.388132</td>\n",
       "      <td>-0.272264</td>\n",
       "      <td>-0.568257</td>\n",
       "      <td>-1.150811</td>\n",
       "      <td>-0.124847</td>\n",
       "      <td>0.460173</td>\n",
       "      <td>-0.333684</td>\n",
       "      <td>2.373818</td>\n",
       "    </tr>\n",
       "    <tr>\n",
       "      <th>9</th>\n",
       "      <td>-0.443856</td>\n",
       "      <td>-1.020663</td>\n",
       "      <td>2.469704</td>\n",
       "      <td>0.710481</td>\n",
       "      <td>0.699105</td>\n",
       "      <td>0.909517</td>\n",
       "      <td>1.347628</td>\n",
       "      <td>-1.150811</td>\n",
       "      <td>-0.124847</td>\n",
       "      <td>-1.309419</td>\n",
       "      <td>-0.333684</td>\n",
       "      <td>-0.421262</td>\n",
       "    </tr>\n",
       "  </tbody>\n",
       "</table>\n",
       "</div>"
      ],
      "text/plain": [
       "   LOT_SQFT  YR_BUILT  LIVING_AREA    FLOORS     ROOMS  BEDROOMS  FULL_BATH  \\\n",
       "0  1.380770 -1.576306    -0.564957  0.710481 -0.692386 -0.272264  -0.568257   \n",
       "1  0.116790  0.229535     0.589695  0.710481  2.090597  0.909517   1.347628   \n",
       "2  0.457596 -1.298484    -0.529799  0.710481  0.699105  0.909517  -0.568257   \n",
       "3  2.806915  0.562921     1.759149 -1.537857  1.394851  2.091298  -0.568257   \n",
       "4 -0.478685 -0.742841    -0.405822  0.710481  0.003359 -0.272264   1.347628   \n",
       "5 -0.425505  0.368445    -1.105274 -1.537857 -0.692386 -0.272264  -0.568257   \n",
       "6 -0.478685  0.479574     0.478670  0.710481  0.003359 -0.272264  -0.568257   \n",
       "7  1.393878  0.368445    -0.846218 -1.537857 -0.692386 -0.272264  -0.568257   \n",
       "8  0.208546  0.590703    -1.046061 -1.537857 -1.388132 -0.272264  -0.568257   \n",
       "9 -0.443856 -1.020663     2.469704  0.710481  0.699105  0.909517   1.347628   \n",
       "\n",
       "   HALF_BATH   KITCHEN  FIREPLACE  REMODEL_Old  REMODEL_Recent  \n",
       "0   0.722730 -0.124847  -1.309419    -0.333684       -0.421262  \n",
       "1   0.722730 -0.124847  -1.309419    -0.333684        2.373818  \n",
       "2   0.722730 -0.124847  -1.309419    -0.333684       -0.421262  \n",
       "3   0.722730 -0.124847   0.460173    -0.333684       -0.421262  \n",
       "4  -1.150811 -0.124847  -1.309419    -0.333684       -0.421262  \n",
       "5  -1.150811 -0.124847   0.460173     2.996843       -0.421262  \n",
       "6   0.722730 -0.124847  -1.309419    -0.333684       -0.421262  \n",
       "7  -1.150811 -0.124847  -1.309419    -0.333684       -0.421262  \n",
       "8  -1.150811 -0.124847   0.460173    -0.333684        2.373818  \n",
       "9  -1.150811 -0.124847  -1.309419    -0.333684       -0.421262  "
      ]
     },
     "execution_count": 185,
     "metadata": {},
     "output_type": "execute_result"
    }
   ],
   "source": [
    "# normalize predictors using standardization (i.e., force all predictors to have mean = 0  and standard deviation = 1)\n",
    "z_score_norm = preprocessing.StandardScaler()\n",
    "predictor_df_normalized = z_score_norm.fit_transform(predictors_df2)\n",
    "predictor_df_normalized = pd.DataFrame(predictor_df_normalized, columns = predictors_df2.columns)\n",
    "predictor_df_normalized.head(10)"
   ]
  },
  {
   "cell_type": "markdown",
   "id": "651a85e9",
   "metadata": {},
   "source": [
    "## Part 3: Multiple Linear Regression"
   ]
  },
  {
   "cell_type": "markdown",
   "id": "b0481c3a",
   "metadata": {},
   "source": [
    "### First, train and test the multiple linear regression model with sklearn"
   ]
  },
  {
   "cell_type": "code",
   "execution_count": 186,
   "id": "aebbc5b1",
   "metadata": {},
   "outputs": [],
   "source": [
    "from sklearn.model_selection import train_test_split\n",
    "from sklearn.linear_model import LinearRegression\n",
    "from sklearn.metrics import mean_squared_error, mean_absolute_error, mean_absolute_percentage_error\n",
    "from dmba import regressionSummary, adjusted_r2_score  # using the dmba package for perforance evaluation"
   ]
  },
  {
   "cell_type": "code",
   "execution_count": 187,
   "id": "774cc8b5",
   "metadata": {},
   "outputs": [],
   "source": [
    "# partition data into train and test sets\n",
    "X = predictor_df_normalized\n",
    "y = response_df2\n",
    "train_X, test_X, train_y, test_y = train_test_split(X, y, test_size=0.3, random_state=1)"
   ]
  },
  {
   "cell_type": "code",
   "execution_count": 188,
   "id": "bfff599e",
   "metadata": {},
   "outputs": [],
   "source": [
    "# train the LR model\n",
    "linear_model = LinearRegression()\n",
    "linear_model = linear_model.fit(train_X, train_y)"
   ]
  },
  {
   "cell_type": "code",
   "execution_count": 189,
   "id": "564aee55",
   "metadata": {},
   "outputs": [
    {
     "name": "stdout",
     "output_type": "stream",
     "text": [
      "intercept  392.7177854344719\n",
      "         Predictor  coefficient\n",
      "0         LOT_SQFT    23.816638\n",
      "1         YR_BUILT    -0.074815\n",
      "2      LIVING_AREA    52.189564\n",
      "3           FLOORS    12.691033\n",
      "4            ROOMS     2.521823\n",
      "5         BEDROOMS    -0.241315\n",
      "6        FULL_BATH     9.961379\n",
      "7        HALF_BATH    10.341500\n",
      "8          KITCHEN    -4.124398\n",
      "9        FIREPLACE    11.332082\n",
      "10     REMODEL_Old     2.719823\n",
      "11  REMODEL_Recent     9.762506\n"
     ]
    }
   ],
   "source": [
    "# print the coefficients\n",
    "print('intercept ', linear_model.intercept_)\n",
    "print(pd.DataFrame({'Predictor': X.columns, 'coefficient': linear_model.coef_}))"
   ]
  },
  {
   "cell_type": "code",
   "execution_count": 190,
   "id": "425688eb",
   "metadata": {},
   "outputs": [
    {
     "name": "stdout",
     "output_type": "stream",
     "text": [
      "Root Mean Squared Error (RMSE):  44.0222\n",
      "Mean Absolute Error (MAE):  33.3665\n",
      "Mean Absolute Percentage Error (MAPE):  8.698\n"
     ]
    }
   ],
   "source": [
    "# print performance metrics on training set using regressionSummary()\n",
    "predicted_y_training = linear_model.predict(train_X)\n",
    "print(\"Root Mean Squared Error (RMSE): \", round(mean_squared_error(train_y, predicted_y_training) ** 0.5, 4))\n",
    "print(\"Mean Absolute Error (MAE): \", round(mean_absolute_error(train_y,predicted_y_training), 4))\n",
    "print(\"Mean Absolute Percentage Error (MAPE): \", round(mean_absolute_percentage_error(train_y, predicted_y_training) * 100, 4))"
   ]
  },
  {
   "cell_type": "code",
   "execution_count": 191,
   "id": "1e23201e",
   "metadata": {},
   "outputs": [
    {
     "data": {
      "text/html": [
       "<div>\n",
       "<style scoped>\n",
       "    .dataframe tbody tr th:only-of-type {\n",
       "        vertical-align: middle;\n",
       "    }\n",
       "\n",
       "    .dataframe tbody tr th {\n",
       "        vertical-align: top;\n",
       "    }\n",
       "\n",
       "    .dataframe thead th {\n",
       "        text-align: right;\n",
       "    }\n",
       "</style>\n",
       "<table border=\"1\" class=\"dataframe\">\n",
       "  <thead>\n",
       "    <tr style=\"text-align: right;\">\n",
       "      <th></th>\n",
       "      <th>Predicted</th>\n",
       "      <th>Actual</th>\n",
       "      <th>Residual</th>\n",
       "    </tr>\n",
       "  </thead>\n",
       "  <tbody>\n",
       "    <tr>\n",
       "      <th>1822</th>\n",
       "      <td>326.948924</td>\n",
       "      <td>291.7</td>\n",
       "      <td>-35.248924</td>\n",
       "    </tr>\n",
       "    <tr>\n",
       "      <th>1998</th>\n",
       "      <td>377.324591</td>\n",
       "      <td>361.1</td>\n",
       "      <td>-16.224591</td>\n",
       "    </tr>\n",
       "    <tr>\n",
       "      <th>5124</th>\n",
       "      <td>384.895749</td>\n",
       "      <td>371.6</td>\n",
       "      <td>-13.295749</td>\n",
       "    </tr>\n",
       "    <tr>\n",
       "      <th>808</th>\n",
       "      <td>279.831242</td>\n",
       "      <td>215.5</td>\n",
       "      <td>-64.331242</td>\n",
       "    </tr>\n",
       "    <tr>\n",
       "      <th>4032</th>\n",
       "      <td>369.442969</td>\n",
       "      <td>325.7</td>\n",
       "      <td>-43.742969</td>\n",
       "    </tr>\n",
       "    <tr>\n",
       "      <th>3672</th>\n",
       "      <td>355.446079</td>\n",
       "      <td>331.8</td>\n",
       "      <td>-23.646079</td>\n",
       "    </tr>\n",
       "    <tr>\n",
       "      <th>3375</th>\n",
       "      <td>565.251762</td>\n",
       "      <td>523.4</td>\n",
       "      <td>-41.851762</td>\n",
       "    </tr>\n",
       "    <tr>\n",
       "      <th>3695</th>\n",
       "      <td>323.534359</td>\n",
       "      <td>338.9</td>\n",
       "      <td>15.365641</td>\n",
       "    </tr>\n",
       "    <tr>\n",
       "      <th>3211</th>\n",
       "      <td>361.441878</td>\n",
       "      <td>310.6</td>\n",
       "      <td>-50.841878</td>\n",
       "    </tr>\n",
       "    <tr>\n",
       "      <th>623</th>\n",
       "      <td>332.212173</td>\n",
       "      <td>195.3</td>\n",
       "      <td>-136.912173</td>\n",
       "    </tr>\n",
       "    <tr>\n",
       "      <th>3853</th>\n",
       "      <td>598.262121</td>\n",
       "      <td>712.5</td>\n",
       "      <td>114.237879</td>\n",
       "    </tr>\n",
       "    <tr>\n",
       "      <th>1687</th>\n",
       "      <td>306.380860</td>\n",
       "      <td>316.0</td>\n",
       "      <td>9.619140</td>\n",
       "    </tr>\n",
       "    <tr>\n",
       "      <th>1051</th>\n",
       "      <td>409.085981</td>\n",
       "      <td>398.2</td>\n",
       "      <td>-10.885981</td>\n",
       "    </tr>\n",
       "    <tr>\n",
       "      <th>1851</th>\n",
       "      <td>364.713517</td>\n",
       "      <td>436.5</td>\n",
       "      <td>71.786483</td>\n",
       "    </tr>\n",
       "    <tr>\n",
       "      <th>3603</th>\n",
       "      <td>515.592804</td>\n",
       "      <td>598.9</td>\n",
       "      <td>83.307196</td>\n",
       "    </tr>\n",
       "    <tr>\n",
       "      <th>1847</th>\n",
       "      <td>438.957419</td>\n",
       "      <td>505.6</td>\n",
       "      <td>66.642581</td>\n",
       "    </tr>\n",
       "    <tr>\n",
       "      <th>486</th>\n",
       "      <td>390.260922</td>\n",
       "      <td>327.9</td>\n",
       "      <td>-62.360922</td>\n",
       "    </tr>\n",
       "    <tr>\n",
       "      <th>899</th>\n",
       "      <td>422.490042</td>\n",
       "      <td>371.2</td>\n",
       "      <td>-51.290042</td>\n",
       "    </tr>\n",
       "    <tr>\n",
       "      <th>2252</th>\n",
       "      <td>394.275833</td>\n",
       "      <td>423.3</td>\n",
       "      <td>29.024167</td>\n",
       "    </tr>\n",
       "    <tr>\n",
       "      <th>3854</th>\n",
       "      <td>677.023162</td>\n",
       "      <td>912.6</td>\n",
       "      <td>235.576838</td>\n",
       "    </tr>\n",
       "  </tbody>\n",
       "</table>\n",
       "</div>"
      ],
      "text/plain": [
       "       Predicted  Actual    Residual\n",
       "1822  326.948924   291.7  -35.248924\n",
       "1998  377.324591   361.1  -16.224591\n",
       "5124  384.895749   371.6  -13.295749\n",
       "808   279.831242   215.5  -64.331242\n",
       "4032  369.442969   325.7  -43.742969\n",
       "3672  355.446079   331.8  -23.646079\n",
       "3375  565.251762   523.4  -41.851762\n",
       "3695  323.534359   338.9   15.365641\n",
       "3211  361.441878   310.6  -50.841878\n",
       "623   332.212173   195.3 -136.912173\n",
       "3853  598.262121   712.5  114.237879\n",
       "1687  306.380860   316.0    9.619140\n",
       "1051  409.085981   398.2  -10.885981\n",
       "1851  364.713517   436.5   71.786483\n",
       "3603  515.592804   598.9   83.307196\n",
       "1847  438.957419   505.6   66.642581\n",
       "486   390.260922   327.9  -62.360922\n",
       "899   422.490042   371.2  -51.290042\n",
       "2252  394.275833   423.3   29.024167\n",
       "3854  677.023162   912.6  235.576838"
      ]
     },
     "execution_count": 191,
     "metadata": {},
     "output_type": "execute_result"
    }
   ],
   "source": [
    "# now, deploy the model on the test data\n",
    "predicted_y_test = linear_model.predict(test_X)  # these are our y_hat values!!\n",
    "\n",
    "result = pd.DataFrame({'Predicted': predicted_y_test, 'Actual': test_y,\n",
    "                       'Residual': test_y - predicted_y_test})\n",
    "result.head(20)"
   ]
  },
  {
   "cell_type": "code",
   "execution_count": 192,
   "id": "6feb94fd",
   "metadata": {},
   "outputs": [
    {
     "name": "stdout",
     "output_type": "stream",
     "text": [
      "Root Mean Squared Error (RMSE):  44.8031\n",
      "Mean Absolute Error (MAE):  33.6772\n",
      "Mean Absolute Percentage Error (MAPE):  8.8396\n"
     ]
    }
   ],
   "source": [
    "# how did our model perform in prediction? Use regressionSummary()\n",
    "print(\"Root Mean Squared Error (RMSE): \", round(mean_squared_error(test_y, predicted_y_test) ** 0.5, 4))\n",
    "print(\"Mean Absolute Error (MAE): \", round(mean_absolute_error(test_y,predicted_y_test), 4))\n",
    "print(\"Mean Absolute Percentage Error (MAPE): \", round(mean_absolute_percentage_error(test_y, predicted_y_test) * 100, 4))"
   ]
  },
  {
   "cell_type": "code",
   "execution_count": 193,
   "id": "7e3c9d6b",
   "metadata": {},
   "outputs": [
    {
     "data": {
      "image/png": "[encoded data removed]",
      "text/plain": [
       "<Figure size 640x480 with 1 Axes>"
      ]
     },
     "metadata": {},
     "output_type": "display_data"
    }
   ],
   "source": [
    "# let's see if our residuals are normally distributed (use matplotlib for this)\n",
    "residuals = test_y - predicted_y_test\n",
    "\n",
    "plt.hist(residuals, bins = 50)\n",
    "plt.xlim([-300,300])\n",
    "plt.tight_layout()\n",
    "plt.savefig(\"nplot1.jpg\")"
   ]
  },
  {
   "cell_type": "markdown",
   "id": "93ef6e07",
   "metadata": {},
   "source": [
    "### Now, train and test the model with statsmodels"
   ]
  },
  {
   "cell_type": "code",
   "execution_count": 158,
   "id": "e4caed3d",
   "metadata": {},
   "outputs": [],
   "source": [
    "import statsmodels.api as sm"
   ]
  },
  {
   "cell_type": "code",
   "execution_count": 160,
   "id": "055de7c4",
   "metadata": {},
   "outputs": [],
   "source": [
    "# add constant to the training and testing data (the predictors) and train model\n",
    "\n",
    "train_X = sm.add_constant(train_X)\n",
    "test_X = sm.add_constant(test_X)\n",
    "\n",
    "linear_model2 = sm.OLS(train_y, train_X).fit()"
   ]
  },
  {
   "cell_type": "code",
   "execution_count": 161,
   "id": "d87c7675",
   "metadata": {},
   "outputs": [
    {
     "data": {
      "text/plain": [
       "const             392.717785\n",
       "LOT_SQFT           23.816638\n",
       "YR_BUILT           -0.074815\n",
       "LIVING_AREA        52.189564\n",
       "FLOORS             12.691033\n",
       "ROOMS               2.521823\n",
       "BEDROOMS           -0.241315\n",
       "FULL_BATH           9.961379\n",
       "HALF_BATH          10.341500\n",
       "KITCHEN            -4.124398\n",
       "FIREPLACE          11.332082\n",
       "REMODEL_Old         2.719823\n",
       "REMODEL_Recent      9.762506\n",
       "dtype: float64"
      ]
     },
     "execution_count": 161,
     "metadata": {},
     "output_type": "execute_result"
    }
   ],
   "source": [
    "# print the coefficients\n",
    "linear_model2.params"
   ]
  },
  {
   "cell_type": "code",
   "execution_count": 162,
   "id": "15c49ca2",
   "metadata": {},
   "outputs": [
    {
     "name": "stdout",
     "output_type": "stream",
     "text": [
      "Root Mean Squared Error (RMSE):  44.0222\n",
      "Mean Absolute Error (MAE):  33.3665\n",
      "Mean Absolute Percentage Error (MAPE):  8.698\n"
     ]
    }
   ],
   "source": [
    "# now, look at the training performance\n",
    "predicted_y_training2 = linear_model2.predict(train_X)\n",
    "print(\"Root Mean Squared Error (RMSE): \", round(mean_squared_error(train_y, predicted_y_training2) ** 0.5, 4))\n",
    "print(\"Mean Absolute Error (MAE): \", round(mean_absolute_error(train_y,predicted_y_training2), 4))\n",
    "print(\"Mean Absolute Percentage Error (MAPE): \", round(mean_absolute_percentage_error(train_y, predicted_y_training2) * 100, 4))"
   ]
  },
  {
   "cell_type": "code",
   "execution_count": 163,
   "id": "954b6a0c",
   "metadata": {},
   "outputs": [],
   "source": [
    "# now, deploy the model on the test data\n",
    "predicted_y_test2 = linear_model2.predict(test_X)"
   ]
  },
  {
   "cell_type": "code",
   "execution_count": 164,
   "id": "7a621ac8",
   "metadata": {},
   "outputs": [
    {
     "name": "stdout",
     "output_type": "stream",
     "text": [
      "Root Mean Squared Error (RMSE):  44.8031\n",
      "Mean Absolute Error (MAE):  33.6772\n",
      "Mean Absolute Percentage Error (MAPE):  8.8396\n"
     ]
    }
   ],
   "source": [
    "# look at the testing performance\n",
    "print(\"Root Mean Squared Error (RMSE): \", round(mean_squared_error(test_y, predicted_y_test2) ** 0.5, 4))\n",
    "print(\"Mean Absolute Error (MAE): \", round(mean_absolute_error(test_y,predicted_y_test2), 4))\n",
    "print(\"Mean Absolute Percentage Error (MAPE): \", round(mean_absolute_percentage_error(test_y, predicted_y_test2) * 100, 4))"
   ]
  },
  {
   "cell_type": "code",
   "execution_count": 165,
   "id": "c23a877c",
   "metadata": {},
   "outputs": [
    {
     "data": {
      "text/plain": [
       "const             0.0000\n",
       "LOT_SQFT          0.0000\n",
       "YR_BUILT          0.9105\n",
       "LIVING_AREA       0.0000\n",
       "FLOORS            0.0000\n",
       "ROOMS             0.0304\n",
       "BEDROOMS          0.8164\n",
       "FULL_BATH         0.0000\n",
       "HALF_BATH         0.0000\n",
       "KITCHEN           0.0000\n",
       "FIREPLACE         0.0000\n",
       "REMODEL_Old       0.0001\n",
       "REMODEL_Recent    0.0000\n",
       "dtype: float64"
      ]
     },
     "execution_count": 165,
     "metadata": {},
     "output_type": "execute_result"
    }
   ],
   "source": [
    "# look at the p-values\n",
    "linear_model2.pvalues.round(4)"
   ]
  },
  {
   "cell_type": "code",
   "execution_count": 166,
   "id": "88c3edaf",
   "metadata": {},
   "outputs": [],
   "source": [
    "# drop the variables that are not significant (i.e., p>0.05)\n",
    "train_X = train_X.drop([\"YR_BUILT\",\"BEDROOMS\"], axis = 1)\n",
    "test_X = test_X.drop([\"YR_BUILT\",\"BEDROOMS\"], axis = 1)"
   ]
  },
  {
   "cell_type": "code",
   "execution_count": 167,
   "id": "34338db5",
   "metadata": {},
   "outputs": [
    {
     "name": "stdout",
     "output_type": "stream",
     "text": [
      "Root Mean Squared Error (RMSE):  44.0226\n",
      "Mean Absolute Error (MAE):  33.369\n",
      "Mean Absolute Percentage Error (MAPE):  8.6991\n"
     ]
    }
   ],
   "source": [
    "# train the new model and print the performance metrics for training\n",
    "linear_model3 = sm.OLS(train_y, train_X).fit()\n",
    "linear_model3.params\n",
    "predicted_y_training3 = linear_model3.predict(train_X)\n",
    "print(\"Root Mean Squared Error (RMSE): \", round(mean_squared_error(train_y, predicted_y_training3) ** 0.5, 4))\n",
    "print(\"Mean Absolute Error (MAE): \", round(mean_absolute_error(train_y,predicted_y_training3), 4))\n",
    "print(\"Mean Absolute Percentage Error (MAPE): \", round(mean_absolute_percentage_error(train_y, predicted_y_training3) * 100, 4))"
   ]
  },
  {
   "cell_type": "code",
   "execution_count": 168,
   "id": "4d0a7ccb",
   "metadata": {},
   "outputs": [
    {
     "name": "stdout",
     "output_type": "stream",
     "text": [
      "Root Mean Squared Error (RMSE):  44.8052\n",
      "Mean Absolute Error (MAE):  33.6777\n",
      "Mean Absolute Percentage Error (MAPE):  8.84\n"
     ]
    }
   ],
   "source": [
    "# deploy the model on the test data, and print the performance metrics for testing\n",
    "predicted_y_test3 = linear_model3.predict(test_X)\n",
    "print(\"Root Mean Squared Error (RMSE): \", round(mean_squared_error(test_y, predicted_y_test3) ** 0.5, 4))\n",
    "print(\"Mean Absolute Error (MAE): \", round(mean_absolute_error(test_y,predicted_y_test3), 4))\n",
    "print(\"Mean Absolute Percentage Error (MAPE): \", round(mean_absolute_percentage_error(test_y, predicted_y_test3) * 100, 4))"
   ]
  },
  {
   "cell_type": "code",
   "execution_count": null,
   "id": "16fab4a4",
   "metadata": {},
   "outputs": [],
   "source": []
  }
 ],
 "metadata": {
  "kernelspec": {
   "display_name": "Python 3 (ipykernel)",
   "language": "python",
   "name": "python3"
  },
  "language_info": {
   "codemirror_mode": {
    "name": "ipython",
    "version": 3
   },
   "file_extension": ".py",
   "mimetype": "text/x-python",
   "name": "python",
   "nbconvert_exporter": "python",
   "pygments_lexer": "ipython3",
   "version": "3.11.1"
  }
 },
 "nbformat": 4,
 "nbformat_minor": 5
}
